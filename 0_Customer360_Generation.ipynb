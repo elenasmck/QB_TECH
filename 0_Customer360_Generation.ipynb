{
 "cells": [
  {
   "cell_type": "markdown",
   "id": "104711cb-f828-4fd1-a8ca-1add1fa63a8f",
   "metadata": {
    "jp-MarkdownHeadingCollapsed": true,
    "tags": []
   },
   "source": [
    "##### Imports"
   ]
  },
  {
   "cell_type": "code",
   "execution_count": 1,
   "id": "17d254f9-b908-4b6b-87cb-f30f1dab1b26",
   "metadata": {},
   "outputs": [],
   "source": [
    "import sys\n",
    "import os\n",
    "import subprocess\n",
    "\n",
    "from pyspark import SparkContext, SparkConf\n",
    "from pyspark.sql import SparkSession, HiveContext ,Row\n",
    "from pyspark.sql import functions as F\n",
    "from datetime import date\n",
    "from dateutil.relativedelta import relativedelta\n",
    "from pyspark.sql.window import Window\n",
    "import numpy as np\n",
    "import datetime as dt\n",
    "from dateutil.relativedelta import relativedelta\n",
    "from pyspark.sql.window import Window\n",
    "from pyspark.sql.functions import sequence, col, expr, rand, when, lit, concat\n",
    "\n",
    "from datetime import datetime\n",
    "import pandas as pd\n",
    "import random\n",
    "from datetime import timedelta\n",
    "import random\n",
    "\n",
    "from pyspark.sql import SparkSession\n",
    "from pyspark.sql.functions import *\n",
    "from pyspark.sql.window import Window\n",
    "import random\n",
    "from datetime import datetime, timedelta\n",
    "from pyspark.sql.types import StructType, StructField, DateType, IntegerType"
   ]
  },
  {
   "cell_type": "code",
   "execution_count": 2,
   "id": "4eb5476b-c3fc-4c8a-8f92-30c443e7bf40",
   "metadata": {},
   "outputs": [
    {
     "name": "stderr",
     "output_type": "stream",
     "text": [
      "Warning: Ignoring non-Spark config property: hive.exec.dynamic.partition.mode\n",
      "Warning: Ignoring non-Spark config property: hive.exec.dynamic.partition\n",
      "Setting default log level to \"WARN\".\n",
      "To adjust logging level use sc.setLogLevel(newLevel). For SparkR, use setLogLevel(newLevel).\n"
     ]
    },
    {
     "name": "stdout",
     "output_type": "stream",
     "text": [
      "23/09/12 18:05:22 WARN NativeCodeLoader: Unable to load native-hadoop library for your platform... using builtin-java classes where applicable\n",
      "23/09/12 18:05:23 WARN Utils: Service 'SparkUI' could not bind on port 4040. Attempting port 4041.\n"
     ]
    }
   ],
   "source": [
    "spark = SparkSession.builder \\\n",
    "                .appName(\"spark_session\") \\\n",
    "                .config(\"spark.sql.catalogImplementation\", \"hive\") \\\n",
    "                .config(\"spark.sql.caseSensitive\", \"false\") \\\n",
    "                .config(\"hive.exec.dynamic.partition\", \"true\") \\\n",
    "                .config(\"hive.exec.dynamic.partition.mode\", \"nonstrict\") \\\n",
    "                .config(\"spark.sql.htl.check\", \"false\") \\\n",
    "                .config(\"spark.sql.legacy.allowCreatingManagedTableUsingNonmptyLocation\", \"true\") \\\n",
    "                .enableHiveSupport() \\\n",
    "                .master(\"local[*]\") \\\n",
    "                .getOrCreate()"
   ]
  },
  {
   "cell_type": "markdown",
   "id": "9fed7231-56df-4b08-aaf2-14279b3824d6",
   "metadata": {
    "jp-MarkdownHeadingCollapsed": true,
    "tags": []
   },
   "source": [
    "#### Load config:"
   ]
  },
  {
   "cell_type": "code",
   "execution_count": 19,
   "id": "e484920e-84ec-4744-8f3b-bcb48d16608f",
   "metadata": {},
   "outputs": [
    {
     "name": "stdout",
     "output_type": "stream",
     "text": [
      "+----------------------+----------------------+----------------+--------------+---------------+-------------+----------+--------------------+\n",
      "|time_series_prep_sdate|time_series_prep_edate|train_start_date|train_end_date|test_start_date|test_end_date|score_date|model_version_prefix|\n",
      "+----------------------+----------------------+----------------+--------------+---------------+-------------+----------+--------------------+\n",
      "|            2021-04-01|            2023-09-01|      2022-06-01|    2023-06-01|     2023-07-01|   2023-09-01|2023-10-01|            20230831|\n",
      "+----------------------+----------------------+----------------+--------------+---------------+-------------+----------+--------------------+\n",
      "\n"
     ]
    }
   ],
   "source": [
    "# ==========================================\n",
    "# Load config\n",
    "# ==========================================\n",
    "\n",
    "#config = spark.table(\"db.xs0_config\")\n",
    "\n",
    "config = spark.read.parquet('xs0_config.parquet')\n",
    "\n",
    "time_series_prep_sdate = config.collect()[0][0]\n",
    "time_series_prep_sdate = config.collect()[0][0]\n",
    "time_series_prep_edate = config.collect()[0][1]\n",
    "train_start_date = config.collect()[0][2]\n",
    "train_end_date = config.collect()[0][3]\n",
    "test_start_date = config.collect()[0][4]\n",
    "test_end_date = config.collect()[0][5]\n",
    "score_date = config.collect()[0][6]\n",
    "model_version_prefix = config.collect()[0][7]\n",
    "\n",
    "config.show()"
   ]
  },
  {
   "cell_type": "markdown",
   "id": "44432571-ad90-4c82-879f-65c9eb1e76fe",
   "metadata": {},
   "source": [
    "Let's generate a synthetic dataset that would describe a number features covered by Customer 360. "
   ]
  },
  {
   "cell_type": "markdown",
   "id": "e45981e6-7dad-4c20-bed2-cc169a9df2c8",
   "metadata": {},
   "source": [
    "## Customer 360"
   ]
  },
  {
   "cell_type": "markdown",
   "id": "ba7974cb-27c6-41c7-a08d-df11e682e264",
   "metadata": {
    "jp-MarkdownHeadingCollapsed": true,
    "tags": []
   },
   "source": [
    "#### Generating"
   ]
  },
  {
   "cell_type": "code",
   "execution_count": 12,
   "id": "e8d8b979-014c-420d-a6e5-118f4c21dd85",
   "metadata": {
    "collapsed": true,
    "jupyter": {
     "outputs_hidden": true
    },
    "tags": []
   },
   "outputs": [
    {
     "name": "stderr",
     "output_type": "stream",
     "text": [
      "[Stage 23:>                                                      (0 + 10) / 100]\r"
     ]
    },
    {
     "name": "stdout",
     "output_type": "stream",
     "text": [
      "23/09/12 18:15:46 WARN MemoryManager: Total allocation exceeds 95.00% (906,992,014 bytes) of heap memory\n",
      "Scaling row group sizes to 96.54% for 7 writers\n",
      "23/09/12 18:15:46 WARN MemoryManager: Total allocation exceeds 95.00% (906,992,014 bytes) of heap memory\n",
      "Scaling row group sizes to 84.47% for 8 writers\n",
      "23/09/12 18:15:46 WARN MemoryManager: Total allocation exceeds 95.00% (906,992,014 bytes) of heap memory\n",
      "Scaling row group sizes to 75.08% for 9 writers\n",
      "23/09/12 18:15:46 WARN MemoryManager: Total allocation exceeds 95.00% (906,992,014 bytes) of heap memory\n",
      "Scaling row group sizes to 67.58% for 10 writers\n",
      "23/09/12 18:16:06 WARN MemoryManager: Total allocation exceeds 95.00% (906,992,014 bytes) of heap memory\n",
      "Scaling row group sizes to 75.08% for 9 writers\n",
      "23/09/12 18:16:06 WARN MemoryManager: Total allocation exceeds 95.00% (906,992,014 bytes) of heap memory\n",
      "Scaling row group sizes to 84.47% for 8 writers\n",
      "23/09/12 18:16:06 WARN MemoryManager: Total allocation exceeds 95.00% (906,992,014 bytes) of heap memory\n",
      "Scaling row group sizes to 96.54% for 7 writers\n"
     ]
    },
    {
     "name": "stderr",
     "output_type": "stream",
     "text": [
      "[Stage 23:=====>                                                (10 + 10) / 100]\r"
     ]
    },
    {
     "name": "stdout",
     "output_type": "stream",
     "text": [
      "23/09/12 18:16:07 WARN MemoryManager: Total allocation exceeds 95.00% (906,992,014 bytes) of heap memory\n",
      "Scaling row group sizes to 96.54% for 7 writers\n",
      "23/09/12 18:16:07 WARN MemoryManager: Total allocation exceeds 95.00% (906,992,014 bytes) of heap memory\n",
      "Scaling row group sizes to 84.47% for 8 writers\n",
      "23/09/12 18:16:07 WARN MemoryManager: Total allocation exceeds 95.00% (906,992,014 bytes) of heap memory\n",
      "Scaling row group sizes to 75.08% for 9 writers\n",
      "23/09/12 18:16:07 WARN MemoryManager: Total allocation exceeds 95.00% (906,992,014 bytes) of heap memory\n",
      "Scaling row group sizes to 67.58% for 10 writers\n",
      "23/09/12 18:16:10 WARN MemoryManager: Total allocation exceeds 95.00% (906,992,014 bytes) of heap memory\n",
      "Scaling row group sizes to 75.08% for 9 writers\n",
      "23/09/12 18:16:10 WARN MemoryManager: Total allocation exceeds 95.00% (906,992,014 bytes) of heap memory\n",
      "Scaling row group sizes to 84.47% for 8 writers\n",
      "23/09/12 18:16:10 WARN MemoryManager: Total allocation exceeds 95.00% (906,992,014 bytes) of heap memory\n",
      "Scaling row group sizes to 96.54% for 7 writers\n"
     ]
    },
    {
     "name": "stderr",
     "output_type": "stream",
     "text": [
      "[Stage 23:==========>                                           (20 + 10) / 100]\r"
     ]
    },
    {
     "name": "stdout",
     "output_type": "stream",
     "text": [
      "23/09/12 18:16:11 WARN MemoryManager: Total allocation exceeds 95.00% (906,992,014 bytes) of heap memory\n",
      "Scaling row group sizes to 96.54% for 7 writers\n",
      "23/09/12 18:16:11 WARN MemoryManager: Total allocation exceeds 95.00% (906,992,014 bytes) of heap memory\n",
      "Scaling row group sizes to 84.47% for 8 writers\n",
      "23/09/12 18:16:11 WARN MemoryManager: Total allocation exceeds 95.00% (906,992,014 bytes) of heap memory\n",
      "Scaling row group sizes to 75.08% for 9 writers\n",
      "23/09/12 18:16:11 WARN MemoryManager: Total allocation exceeds 95.00% (906,992,014 bytes) of heap memory\n",
      "Scaling row group sizes to 67.58% for 10 writers\n",
      "23/09/12 18:16:14 WARN MemoryManager: Total allocation exceeds 95.00% (906,992,014 bytes) of heap memory\n",
      "Scaling row group sizes to 75.08% for 9 writers\n",
      "23/09/12 18:16:14 WARN MemoryManager: Total allocation exceeds 95.00% (906,992,014 bytes) of heap memory\n",
      "Scaling row group sizes to 84.47% for 8 writers\n",
      "23/09/12 18:16:14 WARN MemoryManager: Total allocation exceeds 95.00% (906,992,014 bytes) of heap memory\n",
      "Scaling row group sizes to 96.54% for 7 writers\n"
     ]
    },
    {
     "name": "stderr",
     "output_type": "stream",
     "text": [
      "[Stage 23:================>                                     (30 + 10) / 100]\r"
     ]
    },
    {
     "name": "stdout",
     "output_type": "stream",
     "text": [
      "23/09/12 18:16:15 WARN MemoryManager: Total allocation exceeds 95.00% (906,992,014 bytes) of heap memory\n",
      "Scaling row group sizes to 96.54% for 7 writers\n",
      "23/09/12 18:16:15 WARN MemoryManager: Total allocation exceeds 95.00% (906,992,014 bytes) of heap memory\n",
      "Scaling row group sizes to 84.47% for 8 writers\n",
      "23/09/12 18:16:15 WARN MemoryManager: Total allocation exceeds 95.00% (906,992,014 bytes) of heap memory\n",
      "Scaling row group sizes to 75.08% for 9 writers\n",
      "23/09/12 18:16:15 WARN MemoryManager: Total allocation exceeds 95.00% (906,992,014 bytes) of heap memory\n",
      "Scaling row group sizes to 67.58% for 10 writers\n",
      "23/09/12 18:16:18 WARN MemoryManager: Total allocation exceeds 95.00% (906,992,014 bytes) of heap memory\n",
      "Scaling row group sizes to 75.08% for 9 writers\n",
      "23/09/12 18:16:18 WARN MemoryManager: Total allocation exceeds 95.00% (906,992,014 bytes) of heap memory\n",
      "Scaling row group sizes to 84.47% for 8 writers\n",
      "23/09/12 18:16:18 WARN MemoryManager: Total allocation exceeds 95.00% (906,992,014 bytes) of heap memory\n",
      "Scaling row group sizes to 96.54% for 7 writers\n"
     ]
    },
    {
     "name": "stderr",
     "output_type": "stream",
     "text": [
      "[Stage 23:=====================>                                (40 + 10) / 100]\r"
     ]
    },
    {
     "name": "stdout",
     "output_type": "stream",
     "text": [
      "23/09/12 18:16:19 WARN MemoryManager: Total allocation exceeds 95.00% (906,992,014 bytes) of heap memory\n",
      "Scaling row group sizes to 96.54% for 7 writers\n",
      "23/09/12 18:16:19 WARN MemoryManager: Total allocation exceeds 95.00% (906,992,014 bytes) of heap memory\n",
      "Scaling row group sizes to 84.47% for 8 writers\n",
      "23/09/12 18:16:19 WARN MemoryManager: Total allocation exceeds 95.00% (906,992,014 bytes) of heap memory\n",
      "Scaling row group sizes to 75.08% for 9 writers\n",
      "23/09/12 18:16:19 WARN MemoryManager: Total allocation exceeds 95.00% (906,992,014 bytes) of heap memory\n",
      "Scaling row group sizes to 67.58% for 10 writers\n",
      "23/09/12 18:16:22 WARN MemoryManager: Total allocation exceeds 95.00% (906,992,014 bytes) of heap memory\n",
      "Scaling row group sizes to 75.08% for 9 writers\n",
      "23/09/12 18:16:22 WARN MemoryManager: Total allocation exceeds 95.00% (906,992,014 bytes) of heap memory\n",
      "Scaling row group sizes to 84.47% for 8 writers\n",
      "23/09/12 18:16:22 WARN MemoryManager: Total allocation exceeds 95.00% (906,992,014 bytes) of heap memory\n",
      "Scaling row group sizes to 96.54% for 7 writers\n"
     ]
    },
    {
     "name": "stderr",
     "output_type": "stream",
     "text": [
      "[Stage 23:===========================>                          (50 + 10) / 100]\r"
     ]
    },
    {
     "name": "stdout",
     "output_type": "stream",
     "text": [
      "23/09/12 18:16:23 WARN MemoryManager: Total allocation exceeds 95.00% (906,992,014 bytes) of heap memory\n",
      "Scaling row group sizes to 96.54% for 7 writers\n",
      "23/09/12 18:16:23 WARN MemoryManager: Total allocation exceeds 95.00% (906,992,014 bytes) of heap memory\n",
      "Scaling row group sizes to 84.47% for 8 writers\n",
      "23/09/12 18:16:23 WARN MemoryManager: Total allocation exceeds 95.00% (906,992,014 bytes) of heap memory\n",
      "Scaling row group sizes to 75.08% for 9 writers\n",
      "23/09/12 18:16:23 WARN MemoryManager: Total allocation exceeds 95.00% (906,992,014 bytes) of heap memory\n",
      "Scaling row group sizes to 67.58% for 10 writers\n",
      "23/09/12 18:16:25 WARN MemoryManager: Total allocation exceeds 95.00% (906,992,014 bytes) of heap memory\n",
      "Scaling row group sizes to 75.08% for 9 writers\n",
      "23/09/12 18:16:26 WARN MemoryManager: Total allocation exceeds 95.00% (906,992,014 bytes) of heap memory\n",
      "Scaling row group sizes to 84.47% for 8 writers\n",
      "23/09/12 18:16:26 WARN MemoryManager: Total allocation exceeds 95.00% (906,992,014 bytes) of heap memory\n",
      "Scaling row group sizes to 96.54% for 7 writers\n"
     ]
    },
    {
     "name": "stderr",
     "output_type": "stream",
     "text": [
      "[Stage 23:===============================>                      (59 + 10) / 100]\r"
     ]
    },
    {
     "name": "stdout",
     "output_type": "stream",
     "text": [
      "23/09/12 18:16:27 WARN MemoryManager: Total allocation exceeds 95.00% (906,992,014 bytes) of heap memory\n",
      "Scaling row group sizes to 96.54% for 7 writers\n",
      "23/09/12 18:16:27 WARN MemoryManager: Total allocation exceeds 95.00% (906,992,014 bytes) of heap memory\n",
      "Scaling row group sizes to 84.47% for 8 writers\n",
      "23/09/12 18:16:27 WARN MemoryManager: Total allocation exceeds 95.00% (906,992,014 bytes) of heap memory\n",
      "Scaling row group sizes to 75.08% for 9 writers\n",
      "23/09/12 18:16:27 WARN MemoryManager: Total allocation exceeds 95.00% (906,992,014 bytes) of heap memory\n",
      "Scaling row group sizes to 67.58% for 10 writers\n",
      "23/09/12 18:16:27 WARN MemoryManager: Total allocation exceeds 95.00% (906,992,014 bytes) of heap memory\n",
      "Scaling row group sizes to 75.08% for 9 writers\n"
     ]
    },
    {
     "name": "stderr",
     "output_type": "stream",
     "text": [
      "[Stage 23:================================>                     (60 + 10) / 100]\r"
     ]
    },
    {
     "name": "stdout",
     "output_type": "stream",
     "text": [
      "23/09/12 18:16:29 WARN MemoryManager: Total allocation exceeds 95.00% (906,992,014 bytes) of heap memory\n",
      "Scaling row group sizes to 67.58% for 10 writers\n",
      "23/09/12 18:16:30 WARN MemoryManager: Total allocation exceeds 95.00% (906,992,014 bytes) of heap memory\n",
      "Scaling row group sizes to 75.08% for 9 writers\n",
      "23/09/12 18:16:30 WARN MemoryManager: Total allocation exceeds 95.00% (906,992,014 bytes) of heap memory\n",
      "Scaling row group sizes to 84.47% for 8 writers\n",
      "23/09/12 18:16:30 WARN MemoryManager: Total allocation exceeds 95.00% (906,992,014 bytes) of heap memory\n",
      "Scaling row group sizes to 96.54% for 7 writers\n"
     ]
    },
    {
     "name": "stderr",
     "output_type": "stream",
     "text": [
      "[Stage 23:=====================================>                (69 + 10) / 100]\r"
     ]
    },
    {
     "name": "stdout",
     "output_type": "stream",
     "text": [
      "23/09/12 18:16:31 WARN MemoryManager: Total allocation exceeds 95.00% (906,992,014 bytes) of heap memory\n",
      "Scaling row group sizes to 96.54% for 7 writers\n",
      "23/09/12 18:16:31 WARN MemoryManager: Total allocation exceeds 95.00% (906,992,014 bytes) of heap memory\n",
      "Scaling row group sizes to 84.47% for 8 writers\n",
      "23/09/12 18:16:31 WARN MemoryManager: Total allocation exceeds 95.00% (906,992,014 bytes) of heap memory\n",
      "Scaling row group sizes to 75.08% for 9 writers\n",
      "23/09/12 18:16:31 WARN MemoryManager: Total allocation exceeds 95.00% (906,992,014 bytes) of heap memory\n",
      "Scaling row group sizes to 67.58% for 10 writers\n",
      "23/09/12 18:16:32 WARN MemoryManager: Total allocation exceeds 95.00% (906,992,014 bytes) of heap memory\n",
      "Scaling row group sizes to 75.08% for 9 writers\n"
     ]
    },
    {
     "name": "stderr",
     "output_type": "stream",
     "text": [
      "[Stage 23:=====================================>                (70 + 10) / 100]\r"
     ]
    },
    {
     "name": "stdout",
     "output_type": "stream",
     "text": [
      "23/09/12 18:16:33 WARN MemoryManager: Total allocation exceeds 95.00% (906,992,014 bytes) of heap memory\n",
      "Scaling row group sizes to 84.47% for 8 writers\n",
      "23/09/12 18:16:33 WARN MemoryManager: Total allocation exceeds 95.00% (906,992,014 bytes) of heap memory\n",
      "Scaling row group sizes to 96.54% for 7 writers\n"
     ]
    },
    {
     "name": "stderr",
     "output_type": "stream",
     "text": [
      "[Stage 23:==========================================>           (79 + 10) / 100]\r"
     ]
    },
    {
     "name": "stdout",
     "output_type": "stream",
     "text": [
      "23/09/12 18:16:34 WARN MemoryManager: Total allocation exceeds 95.00% (906,992,014 bytes) of heap memory\n",
      "Scaling row group sizes to 96.54% for 7 writers\n",
      "23/09/12 18:16:34 WARN MemoryManager: Total allocation exceeds 95.00% (906,992,014 bytes) of heap memory\n",
      "Scaling row group sizes to 84.47% for 8 writers\n",
      "23/09/12 18:16:34 WARN MemoryManager: Total allocation exceeds 95.00% (906,992,014 bytes) of heap memory\n",
      "Scaling row group sizes to 75.08% for 9 writers\n",
      "23/09/12 18:16:34 WARN MemoryManager: Total allocation exceeds 95.00% (906,992,014 bytes) of heap memory\n",
      "Scaling row group sizes to 67.58% for 10 writers\n",
      "23/09/12 18:16:36 WARN MemoryManager: Total allocation exceeds 95.00% (906,992,014 bytes) of heap memory\n",
      "Scaling row group sizes to 75.08% for 9 writers\n"
     ]
    },
    {
     "name": "stderr",
     "output_type": "stream",
     "text": [
      "[Stage 23:==========================================>           (79 + 11) / 100]\r"
     ]
    },
    {
     "name": "stdout",
     "output_type": "stream",
     "text": [
      "23/09/12 18:16:37 WARN MemoryManager: Total allocation exceeds 95.00% (906,992,014 bytes) of heap memory\n",
      "Scaling row group sizes to 84.47% for 8 writers\n"
     ]
    },
    {
     "name": "stderr",
     "output_type": "stream",
     "text": [
      "[Stage 23:===========================================>          (80 + 10) / 100]\r"
     ]
    },
    {
     "name": "stdout",
     "output_type": "stream",
     "text": [
      "23/09/12 18:16:37 WARN MemoryManager: Total allocation exceeds 95.00% (906,992,014 bytes) of heap memory\n",
      "Scaling row group sizes to 96.54% for 7 writers\n"
     ]
    },
    {
     "name": "stderr",
     "output_type": "stream",
     "text": [
      "[Stage 23:================================================>     (89 + 10) / 100]\r"
     ]
    },
    {
     "name": "stdout",
     "output_type": "stream",
     "text": [
      "23/09/12 18:16:38 WARN MemoryManager: Total allocation exceeds 95.00% (906,992,014 bytes) of heap memory\n",
      "Scaling row group sizes to 96.54% for 7 writers\n",
      "23/09/12 18:16:38 WARN MemoryManager: Total allocation exceeds 95.00% (906,992,014 bytes) of heap memory\n",
      "Scaling row group sizes to 84.47% for 8 writers\n",
      "23/09/12 18:16:38 WARN MemoryManager: Total allocation exceeds 95.00% (906,992,014 bytes) of heap memory\n",
      "Scaling row group sizes to 75.08% for 9 writers\n",
      "23/09/12 18:16:38 WARN MemoryManager: Total allocation exceeds 95.00% (906,992,014 bytes) of heap memory\n",
      "Scaling row group sizes to 67.58% for 10 writers\n",
      "23/09/12 18:16:41 WARN MemoryManager: Total allocation exceeds 95.00% (906,992,014 bytes) of heap memory\n",
      "Scaling row group sizes to 75.08% for 9 writers\n",
      "23/09/12 18:16:41 WARN MemoryManager: Total allocation exceeds 95.00% (906,992,014 bytes) of heap memory\n",
      "Scaling row group sizes to 84.47% for 8 writers\n",
      "23/09/12 18:16:41 WARN MemoryManager: Total allocation exceeds 95.00% (906,992,014 bytes) of heap memory\n",
      "Scaling row group sizes to 96.54% for 7 writers\n"
     ]
    },
    {
     "name": "stderr",
     "output_type": "stream",
     "text": [
      "                                                                                \r"
     ]
    }
   ],
   "source": [
    "from pyspark.sql import SparkSession\n",
    "from pyspark.sql.functions import *\n",
    "from pyspark.sql.window import Window\n",
    "import random\n",
    "from datetime import datetime, timedelta\n",
    "from pyspark.sql.types import StructType, StructField, DateType\n",
    "\n",
    "# Define the number of rows in the dataset\n",
    "num_rows = 50000\n",
    "\n",
    "# Define the range of __PERIOD values\n",
    "start_date = datetime(2021, 4, 1)\n",
    "end_date = datetime(2023, 9, 1)\n",
    "\n",
    "# Create a list of __PERIOD values by adding months manually\n",
    "date_range = []\n",
    "current_date = start_date\n",
    "while current_date <= end_date:\n",
    "    date_range.append(current_date)\n",
    "    year = current_date.year + (current_date.month // 12)\n",
    "    month = current_date.month % 12 + 1\n",
    "    current_date = datetime(year, month, 1)\n",
    "\n",
    "# Define the schema for the DataFrame\n",
    "schema = StructType([StructField(\"__PERIOD\", DateType(), False)])\n",
    "\n",
    "# Create a DataFrame with __PERIOD values and the specified schema\n",
    "period_df = spark.createDataFrame([(d,) for d in date_range], schema)\n",
    "\n",
    "# Generate random customer_no values\n",
    "customer_no_values = [str(random.randint(1, num_rows)) for _ in range(num_rows)]\n",
    "\n",
    "# Create a DataFrame for customer_no\n",
    "customer_no_df = spark.createDataFrame([(customer_no,) for customer_no in customer_no_values], [\"customer_no\"])\n",
    "\n",
    "# Cross-join customer_no_df and period_df to create unique combinations\n",
    "customer_df = customer_no_df.crossJoin(period_df)\n",
    "\n",
    "# Generate other customer characteristics features\n",
    "customer_df = customer_df \\\n",
    "    .withColumn('id_gender', expr('CAST(RAND() > 0.5 AS INT)')) \\\n",
    "    .withColumn('customer_category_cleaned', expr('CAST(RAND() * 3 + 1 AS INT)')) \\\n",
    "    .withColumn('marital_status_cleaned', expr('CAST(RAND() > 0.5 AS INT)')) \\\n",
    "    .withColumn('customer_governorate', expr('CAST(RAND() * 10 + 1 AS INT)')) \\\n",
    "    .withColumn('age', expr('CAST(RAND() * 67 + 18 AS INT)')) \\\n",
    "    .withColumn('job_cleaned', expr('CAST(RAND() * 10 + 1 AS INT)')) \\\n",
    "    .withColumn('local_branch', expr('CAST(RAND() * 100 + 1 AS INT)')) \\\n",
    "    .withColumn('employed', expr('CAST(RAND() > 0.5 AS INT)')) \\\n",
    "    .withColumn('tenure', expr('CAST(RAND() * 804 AS INT)')) \\\n",
    "    .withColumn('customer_active_SOP', expr('CAST(RAND() <= 0.95 AS INT)'))\n",
    "\n",
    "# Generate Cross-sell and up-sell targets\n",
    "products = ['savacc', 'currentacc', 'deposits', 'bank_online', 'credit_cards', 'insurance', 'debit_cards', 'secured_loans', 'unsecured_loans']\n",
    "\n",
    "for product in products:\n",
    "    customer_df = customer_df.withColumn(f'{product}__new_in_period', expr(f'CAST(RAND() <= 0.05 AS INT)'))\n",
    "    customer_df = customer_df.withColumn(f'{product}__close_in_period', expr(f'CASE WHEN {product}__new_in_period == 1 THEN 0 ELSE CAST(RAND() <= 0.05 AS INT) END'))\n",
    "    customer_df = customer_df.withColumn(f'{product}__active_SOP', expr(f'CASE WHEN {product}__close_in_period == 1 THEN 0 ELSE CAST(RAND() <= 0.95 AS INT) END'))\n",
    "    customer_df = customer_df.withColumn(f'{product}__time_to_next_maturity', when(col(f'{product}__active_SOP') == 1, expr('CAST(RAND() * 3650 AS INT)')).otherwise(0))\n",
    "    customer_df = customer_df.withColumn(f'{product}__active_at_or_before_SOP', when(col(f'{product}__active_SOP') == 1, 1).otherwise(0))\n",
    "    customer_df = customer_df.withColumn(f'{product}__time_since_last_new', expr('CAST(RAND() * 3650 AS INT)'))\n",
    "    customer_df = customer_df.withColumn(f'{product}__time_since_last_close', expr('CAST(RAND() * 3650 AS INT)'))\n",
    "    customer_df = customer_df.withColumn(f'{product}__time_since_first_new', expr('CAST(RAND() * 3650 AS INT)'))\n",
    "    customer_df = customer_df.withColumn(f'{product}__age_of_oldest_active', expr('CAST(RAND() * 3650 AS INT)'))\n",
    "\n",
    "# Generate Saving account features\n",
    "customer_df = customer_df.withColumn('pit_overdraft_days', expr('CAST(RAND() * 30 AS INT)'))\n",
    "\n",
    "# Generate Loans features\n",
    "customer_df = customer_df.withColumn('static_amount_financed', expr('CAST(RAND() * 100000 AS INT)'))\n",
    "\n",
    "# Generate Current account features\n",
    "customer_df = customer_df.withColumn('tfeat_SOP_deposit_bal', expr('CAST(RAND() * 10000 AS INT)'))\n",
    "customer_df = customer_df.withColumn('tfeat_SOP_deposit_bal_MA_1_3', expr('CAST(RAND() * 10000 AS INT)'))\n",
    "customer_df = customer_df.withColumn('tfeat_SOP_deposit_bal_3MA_3M_growth', expr('RAND()'))\n",
    "customer_df = customer_df.withColumn('tfeat_SOP_deposit_bal_3MA_YY_growth', expr('RAND()'))\n",
    "customer_df = customer_df.withColumn('tfeat_SOP_deposit_bal_LAST_MO_VS_3MA', expr('RAND()'))\n",
    "\n",
    "# Generate Deposits features\n",
    "customer_df = customer_df.withColumn('tfeat_SOP_deposit_bal', expr('CAST(RAND() * 10000 AS INT)'))\n",
    "customer_df = customer_df.withColumn('tfeat_SOP_deposit_bal_MA_1_3', expr('CAST(RAND() * 10000 AS INT)'))\n",
    "customer_df = customer_df.withColumn('tfeat_SOP_deposit_bal_3MA_3M_growth', expr('RAND()'))\n",
    "customer_df = customer_df.withColumn('tfeat_SOP_deposit_bal_3MA_YY_growth', expr('RAND()'))\n",
    "customer_df = customer_df.withColumn('tfeat_SOP_deposit_bal_LAST_MO_VS_3MA', expr('RAND()'))\n",
    "\n",
    "# Generate Bank online features\n",
    "customer_df = customer_df.withColumn('tfeat_time_spent', expr('CAST(RAND() * 1440 AS INT)'))  # Minutes in a day\n",
    "customer_df = customer_df.withColumn('tfeat_num_logins', expr('CAST(RAND() * 10 AS INT)'))\n",
    "customer_df = customer_df.withColumn('tfeat_time_spent_lag1', expr('CAST(RAND() * 1440 AS INT)'))\n",
    "customer_df = customer_df.withColumn('tfeat_num_logins_lag1', expr('CAST(RAND() * 10 AS INT)'))\n",
    "customer_df = customer_df.withColumn('tfeat_cum_time_spent', expr('CAST(RAND() * 1440 * 365 AS INT)'))\n",
    "customer_df = customer_df.withColumn('tfeat_cum_num_logins', expr('CAST(RAND() * 365 AS INT)'))\n",
    "\n",
    "# Generate Loan history features\n",
    "customer_df = customer_df.withColumn('LOAN_AMT', expr('CAST(RAND() * 100000 AS INT)'))\n",
    "customer_df = customer_df.withColumn('Net_Prft', expr('CAST(RAND() * 1000 AS INT)'))\n",
    "customer_df = customer_df.withColumn('Monthly_Income', expr('CAST(RAND() * 5000 AS INT)'))\n",
    "customer_df = customer_df.withColumn('ReveNue', expr('CAST(RAND() * 5000 AS INT)'))\n",
    "\n",
    "# Generate Credit cards features\n",
    "customer_df = customer_df.withColumn('static_credit_limit', expr('CAST(RAND() * 10000 AS INT)'))\n",
    "\n",
    "# Generate Insurance features\n",
    "customer_df = customer_df.withColumn('gwp', expr('CAST(RAND() * 1000 AS INT)'))\n",
    "\n",
    "# Generate Transaction features\n",
    "transactions = ['_DR_total', '_DR_min', '_DR_max', '_DR_average', '_CR_total', '_CR_min', '_CR_max', '_CR_average', '_TR_count']\n",
    "\n",
    "for transaction in transactions:\n",
    "    customer_df = customer_df.withColumn(transaction, expr('CAST(RAND() * 10000 AS INT)'))\n",
    "\n",
    "for transaction in transactions:\n",
    "    customer_df = customer_df.withColumn(f'tfeat{transaction}_1_to_3m', expr('CAST(RAND() * 10000 AS INT)'))\n",
    "    customer_df = customer_df.withColumn(f'tfeat{transaction}_4_to_6m', expr('CAST(RAND() * 10000 AS INT)'))\n",
    "    customer_df = customer_df.withColumn(f'tfeat{transaction}_7_to_12m', expr('CAST(RAND() * 10000 AS INT)'))\n",
    "\n",
    "# Save the DataFrame to a Parquet file\n",
    "customer_df.write.mode(\"overwrite\").parquet(\"data/customer360.parquet\")\n"
   ]
  },
  {
   "cell_type": "code",
   "execution_count": 13,
   "id": "5c8344a0-2b23-4124-88e9-d402b08e2ce8",
   "metadata": {},
   "outputs": [],
   "source": [
    "df = spark.read.parquet('data/customer360.parquet')"
   ]
  },
  {
   "cell_type": "code",
   "execution_count": 14,
   "id": "45b7341b-8e44-4f68-b9e9-5281db59040d",
   "metadata": {},
   "outputs": [
    {
     "name": "stderr",
     "output_type": "stream",
     "text": [
      "[Stage 25:>                                                       (0 + 10) / 10]\r"
     ]
    },
    {
     "name": "stdout",
     "output_type": "stream",
     "text": [
      "+------------------------+------------------+\n",
      "|insurance__new_in_period|count(customer_no)|\n",
      "+------------------------+------------------+\n",
      "|                       1|             75119|\n",
      "|                       0|           1424881|\n",
      "+------------------------+------------------+\n",
      "\n"
     ]
    },
    {
     "name": "stderr",
     "output_type": "stream",
     "text": [
      "                                                                                \r"
     ]
    }
   ],
   "source": [
    "df.groupBy(col('insurance__new_in_period')).agg(count(col('customer_no'))).show()"
   ]
  },
  {
   "cell_type": "code",
   "execution_count": 15,
   "id": "263b553b-b3c7-48a2-a520-496f417b3ec4",
   "metadata": {},
   "outputs": [
    {
     "name": "stdout",
     "output_type": "stream",
     "text": [
      "+---------------------+------------------+\n",
      "|savacc__new_in_period|count(customer_no)|\n",
      "+---------------------+------------------+\n",
      "|                    1|             75310|\n",
      "|                    0|           1424690|\n",
      "+---------------------+------------------+\n",
      "\n"
     ]
    }
   ],
   "source": [
    "df.groupBy(col('savacc__new_in_period')).agg(count(col('customer_no'))).show()"
   ]
  },
  {
   "cell_type": "code",
   "execution_count": 16,
   "id": "83300f7a-c3a5-43b4-901e-48b2f018ec4c",
   "metadata": {},
   "outputs": [
    {
     "name": "stdout",
     "output_type": "stream",
     "text": [
      "+-----------------------+------------------+\n",
      "|deposits__new_in_period|count(customer_no)|\n",
      "+-----------------------+------------------+\n",
      "|                      1|             75095|\n",
      "|                      0|           1424905|\n",
      "+-----------------------+------------------+\n",
      "\n"
     ]
    }
   ],
   "source": [
    "df.groupBy(col('deposits__new_in_period')).agg(count(col('customer_no'))).show()"
   ]
  },
  {
   "cell_type": "code",
   "execution_count": 17,
   "id": "255679f7-ae47-42e6-b291-e9b4856666ec",
   "metadata": {},
   "outputs": [
    {
     "name": "stdout",
     "output_type": "stream",
     "text": [
      "+--------------------+------------------+\n",
      "|deposits__active_SOP|count(customer_no)|\n",
      "+--------------------+------------------+\n",
      "|                   1|           1357510|\n",
      "|                   0|            142490|\n",
      "+--------------------+------------------+\n",
      "\n"
     ]
    }
   ],
   "source": [
    "df.groupBy(col('deposits__active_SOP')).agg(count(col('customer_no'))).show()"
   ]
  },
  {
   "cell_type": "code",
   "execution_count": 20,
   "id": "814c9d5f-cb1b-4c81-96d9-3b2c7c923a04",
   "metadata": {},
   "outputs": [
    {
     "name": "stdout",
     "output_type": "stream",
     "text": [
      "-RECORD 0------------------------------------------------------\n",
      " customer_no                              | 5488               \n",
      " __PERIOD                                 | 2021-10-01         \n",
      " id_gender                                | 1                  \n",
      " customer_category_cleaned                | 1                  \n",
      " marital_status_cleaned                   | 0                  \n",
      " customer_governorate                     | 4                  \n",
      " age                                      | 43                 \n",
      " job_cleaned                              | 2                  \n",
      " local_branch                             | 96                 \n",
      " employed                                 | 0                  \n",
      " tenure                                   | 413                \n",
      " customer_active_SOP                      | 1                  \n",
      " savacc__new_in_period                    | 0                  \n",
      " savacc__close_in_period                  | 0                  \n",
      " savacc__active_SOP                       | 1                  \n",
      " savacc__time_to_next_maturity            | 38                 \n",
      " savacc__active_at_or_before_SOP          | 1                  \n",
      " savacc__time_since_last_new              | 670                \n",
      " savacc__time_since_last_close            | 1803               \n",
      " savacc__time_since_first_new             | 2722               \n",
      " savacc__age_of_oldest_active             | 67                 \n",
      " currentacc__new_in_period                | 0                  \n",
      " currentacc__close_in_period              | 0                  \n",
      " currentacc__active_SOP                   | 1                  \n",
      " currentacc__time_to_next_maturity        | 2831               \n",
      " currentacc__active_at_or_before_SOP      | 1                  \n",
      " currentacc__time_since_last_new          | 1380               \n",
      " currentacc__time_since_last_close        | 738                \n",
      " currentacc__time_since_first_new         | 1821               \n",
      " currentacc__age_of_oldest_active         | 2122               \n",
      " deposits__new_in_period                  | 0                  \n",
      " deposits__close_in_period                | 0                  \n",
      " deposits__active_SOP                     | 1                  \n",
      " deposits__time_to_next_maturity          | 3355               \n",
      " deposits__active_at_or_before_SOP        | 1                  \n",
      " deposits__time_since_last_new            | 2025               \n",
      " deposits__time_since_last_close          | 2684               \n",
      " deposits__time_since_first_new           | 1080               \n",
      " deposits__age_of_oldest_active           | 54                 \n",
      " bank_online__new_in_period               | 0                  \n",
      " bank_online__close_in_period             | 0                  \n",
      " bank_online__active_SOP                  | 0                  \n",
      " bank_online__time_to_next_maturity       | 0                  \n",
      " bank_online__active_at_or_before_SOP     | 0                  \n",
      " bank_online__time_since_last_new         | 598                \n",
      " bank_online__time_since_last_close       | 1296               \n",
      " bank_online__time_since_first_new        | 1117               \n",
      " bank_online__age_of_oldest_active        | 1240               \n",
      " credit_cards__new_in_period              | 0                  \n",
      " credit_cards__close_in_period            | 0                  \n",
      " credit_cards__active_SOP                 | 0                  \n",
      " credit_cards__time_to_next_maturity      | 0                  \n",
      " credit_cards__active_at_or_before_SOP    | 0                  \n",
      " credit_cards__time_since_last_new        | 1604               \n",
      " credit_cards__time_since_last_close      | 1860               \n",
      " credit_cards__time_since_first_new       | 2734               \n",
      " credit_cards__age_of_oldest_active       | 759                \n",
      " insurance__new_in_period                 | 0                  \n",
      " insurance__close_in_period               | 0                  \n",
      " insurance__active_SOP                    | 1                  \n",
      " insurance__time_to_next_maturity         | 963                \n",
      " insurance__active_at_or_before_SOP       | 1                  \n",
      " insurance__time_since_last_new           | 3363               \n",
      " insurance__time_since_last_close         | 2132               \n",
      " insurance__time_since_first_new          | 3226               \n",
      " insurance__age_of_oldest_active          | 2140               \n",
      " debit_cards__new_in_period               | 0                  \n",
      " debit_cards__close_in_period             | 0                  \n",
      " debit_cards__active_SOP                  | 1                  \n",
      " debit_cards__time_to_next_maturity       | 1107               \n",
      " debit_cards__active_at_or_before_SOP     | 1                  \n",
      " debit_cards__time_since_last_new         | 3099               \n",
      " debit_cards__time_since_last_close       | 1469               \n",
      " debit_cards__time_since_first_new        | 3214               \n",
      " debit_cards__age_of_oldest_active        | 1631               \n",
      " secured_loans__new_in_period             | 0                  \n",
      " secured_loans__close_in_period           | 0                  \n",
      " secured_loans__active_SOP                | 0                  \n",
      " secured_loans__time_to_next_maturity     | 0                  \n",
      " secured_loans__active_at_or_before_SOP   | 0                  \n",
      " secured_loans__time_since_last_new       | 2660               \n",
      " secured_loans__time_since_last_close     | 707                \n",
      " secured_loans__time_since_first_new      | 2997               \n",
      " secured_loans__age_of_oldest_active      | 1335               \n",
      " unsecured_loans__new_in_period           | 0                  \n",
      " unsecured_loans__close_in_period         | 1                  \n",
      " unsecured_loans__active_SOP              | 0                  \n",
      " unsecured_loans__time_to_next_maturity   | 0                  \n",
      " unsecured_loans__active_at_or_before_SOP | 0                  \n",
      " unsecured_loans__time_since_last_new     | 1748               \n",
      " unsecured_loans__time_since_last_close   | 524                \n",
      " unsecured_loans__time_since_first_new    | 1630               \n",
      " unsecured_loans__age_of_oldest_active    | 591                \n",
      " pit_overdraft_days                       | 18                 \n",
      " static_amount_financed                   | 93842              \n",
      " tfeat_SOP_deposit_bal                    | 2970               \n",
      " tfeat_SOP_deposit_bal_MA_1_3             | 5652               \n",
      " tfeat_SOP_deposit_bal_3MA_3M_growth      | 0.9874979249058766 \n",
      " tfeat_SOP_deposit_bal_3MA_YY_growth      | 0.406234031846219  \n",
      " tfeat_SOP_deposit_bal_LAST_MO_VS_3MA     | 0.4988448212165921 \n",
      " tfeat_time_spent                         | 1398               \n",
      " tfeat_num_logins                         | 6                  \n",
      " tfeat_time_spent_lag1                    | 954                \n",
      " tfeat_num_logins_lag1                    | 5                  \n",
      " tfeat_cum_time_spent                     | 494045             \n",
      " tfeat_cum_num_logins                     | 10                 \n",
      " LOAN_AMT                                 | 89112              \n",
      " Net_Prft                                 | 708                \n",
      " Monthly_Income                           | 4940               \n",
      " ReveNue                                  | 4547               \n",
      " static_credit_limit                      | 687                \n",
      " gwp                                      | 921                \n",
      " _DR_total                                | 2329               \n",
      " _DR_min                                  | 7584               \n",
      " _DR_max                                  | 6406               \n",
      " _DR_average                              | 6923               \n",
      " _CR_total                                | 4580               \n",
      " _CR_min                                  | 1885               \n",
      " _CR_max                                  | 3132               \n",
      " _CR_average                              | 316                \n",
      " _TR_count                                | 1925               \n",
      " tfeat_DR_total_1_to_3m                   | 382                \n",
      " tfeat_DR_total_4_to_6m                   | 8764               \n",
      " tfeat_DR_total_7_to_12m                  | 1255               \n",
      " tfeat_DR_min_1_to_3m                     | 1263               \n",
      " tfeat_DR_min_4_to_6m                     | 3858               \n",
      " tfeat_DR_min_7_to_12m                    | 3495               \n",
      " tfeat_DR_max_1_to_3m                     | 4538               \n",
      " tfeat_DR_max_4_to_6m                     | 6165               \n",
      " tfeat_DR_max_7_to_12m                    | 3186               \n",
      " tfeat_DR_average_1_to_3m                 | 899                \n",
      " tfeat_DR_average_4_to_6m                 | 8218               \n",
      " tfeat_DR_average_7_to_12m                | 8975               \n",
      " tfeat_CR_total_1_to_3m                   | 7087               \n",
      " tfeat_CR_total_4_to_6m                   | 6425               \n",
      " tfeat_CR_total_7_to_12m                  | 4960               \n",
      " tfeat_CR_min_1_to_3m                     | 3536               \n",
      " tfeat_CR_min_4_to_6m                     | 6738               \n",
      " tfeat_CR_min_7_to_12m                    | 3634               \n",
      " tfeat_CR_max_1_to_3m                     | 796                \n",
      " tfeat_CR_max_4_to_6m                     | 4271               \n",
      " tfeat_CR_max_7_to_12m                    | 8395               \n",
      " tfeat_CR_average_1_to_3m                 | 3664               \n",
      " tfeat_CR_average_4_to_6m                 | 2393               \n",
      " tfeat_CR_average_7_to_12m                | 1974               \n",
      " tfeat_TR_count_1_to_3m                   | 2829               \n",
      " tfeat_TR_count_4_to_6m                   | 3659               \n",
      " tfeat_TR_count_7_to_12m                  | 9015               \n",
      "only showing top 1 row\n",
      "\n"
     ]
    }
   ],
   "source": [
    "df.show(1, vertical=True)"
   ]
  },
  {
   "cell_type": "markdown",
   "id": "10b24df7-f8e3-4df9-9133-f24d2e619149",
   "metadata": {
    "tags": []
   },
   "source": [
    "### Description"
   ]
  },
  {
   "cell_type": "markdown",
   "id": "01179782-ae06-4bf0-9f46-f8f99d345720",
   "metadata": {},
   "source": [
    "Please find the description below:"
   ]
  },
  {
   "cell_type": "markdown",
   "id": "096a7843-41ab-4c2e-b5ea-83c09d5fb159",
   "metadata": {
    "jp-MarkdownHeadingCollapsed": true,
    "tags": []
   },
   "source": [
    "##### Customer characteristics features\n",
    "\n",
    "| Feature Name                | Description                                       | Possible Values/Range                     |\n",
    "|-----------------------------|---------------------------------------------------|------------------------------------------|\n",
    "| __PERIOD                    | Month of all features                             | \"2021-04-01\" to \"2023-09-01”              |\n",
    "| customer_no                 | customer_id                                       | 1 to 50000                               |\n",
    "| id_gender                   | Gender of the customer                            | 1 (Male), 0 (Female)                      |\n",
    "| customer_category_cleaned   | Customer category                                 | 1, 2, 3                                  |\n",
    "| marital_status_cleaned      | Marital status                                    | 1 (Married), 0 (Not Married)              |\n",
    "| customer_governorate        | State code of the customer                        | Random state code                        |\n",
    "| age                         | Age of the customer                               | years, from 18                                 |\n",
    "| job_cleaned                 | Profession of the customer                        | Random value                             |\n",
    "| local_branch                | Branch associated with the customer              | 1 to 100                                 |\n",
    "| employed                    | Employment status                                 | 1 (Employed), 0 (Not Employed)            |\n",
    "| tenure                      | Number of months as a customer                    | 0 to 804                                 |\n",
    "| customer___active_SOP       | Active customer status                            | 1 (Active), 0 (N ot Active)           |\n"
   ]
  },
  {
   "cell_type": "markdown",
   "id": "30950a73-31e3-4bf3-8be1-d96714f636ef",
   "metadata": {},
   "source": [
    "##### Targets\n",
    "\n",
    "| Feature Name                        | Description                                  | Possible Values/Range               |\n",
    "|-------------------------------------|----------------------------------------------|------------------------------------|\n",
    "| [p]__new_in_period                  | If product p is new in the period            | 1 (New), 0 (Not New)                |\n",
    "| [p]__close_in_period                | If product p is closed in the period         | 1 (Closed), 0 (Not Closed)         |\n",
    "| [p]__active_SOP                     | If product p is active in the period         | 1 (Active), 0 (Not Active)         |\n",
    "| [p]__time_to_next_maturity          | Time to next maturity if p is active         | 0 to 3650 days                     |\n",
    "| [p]__active_at_or_before_SOP        | Active product in a period or before         | 1 (Active), 0 (Not Active)         |\n",
    "| [p]__time_since_last_new            | Time since last new product was bought       | Days                               |\n",
    "| [p]__time_since_last_close          | Time since last product was closed           | Days                               |\n",
    "| [p]__time_since_first_new           | Time since first new product was bought      | Days                               |\n",
    "| [p]__age_of_oldest_active           | Age of oldest active product                 | Days                               |\n"
   ]
  },
  {
   "cell_type": "markdown",
   "id": "552b830d-4ef8-4447-aeef-39a8801af919",
   "metadata": {},
   "source": [
    "##### Product features\n",
    "\n",
    "Saving account features:\n",
    "\n",
    "| Feature Name       | Description                        | Possible Values/Range                |\n",
    "|--------------------|------------------------------------|-------------------------------------|\n",
    "| pit_overdraft_days | N of overdraft days                | 0 to 30                             |\n",
    "\n",
    "Loans features:\n",
    "\n",
    "| Feature Name           | Description           | Possible Values/Range   |\n",
    "|------------------------|-----------------------|-------------------------|\n",
    "| static_amount_financed | Amount of loan financed| USD                     |\n",
    "\n",
    "Current account features:\n",
    "\n",
    "| Feature Name                         | Description                                                         | Possible Values/Range   |\n",
    "|--------------------------------------|---------------------------------------------------------------------|-------------------------|\n",
    "| tfeat_SOP_deposit_bal                | Balance at start of period                                          | USD                     |\n",
    "| tfeat_SOP_deposit_bal_MA_1_3         | 3 month moving average of balance at start of period                | USD                     |\n",
    "| tfeat_SOP_deposit_bal_3MA_3M_growth  | 3 month moving average / 4-6 months ago moving average             | Ratio                   |\n",
    "| tfeat_SOP_deposit_bal_3MA_YY_growth  | 3 month moving average / 13-15 months ago moving average           | Ratio                   |\n",
    "| tfeat_SOP_deposit_bal_LAST_MO_VS_3MA | Last month balance / 3 month moving average                        | Ratio                   |\n",
    "\n",
    "Deposits features:\n",
    "\n",
    "| Feature Name                         | Description                                                                    | Possible Values/Range   |\n",
    "|--------------------------------------|--------------------------------------------------------------------------------|-------------------------|\n",
    "| tfeat_SOP_deposit_bal                | Deposit balance at a period                                                    | USD                     |\n",
    "| tfeat_SOP_deposit_bal_MA_1_3         | Deposit balance at a period 1-3 months                                         | USD                     |\n",
    "| tfeat_SOP_deposit_bal_3MA_3M_growth  | Deposit balance at a period in relation to 1-3 months                          | Ratio                   |\n",
    "| tfeat_SOP_deposit_bal_3MA_YY_growth  | Deposit balance growth at 1-3 months period in relation to 1 year              | Ratio                   |\n",
    "| tfeat_SOP_deposit_bal_LAST_MO_VS_3MA | Deposit balance growth at 1-3 months period in relation to 1 year             | Ratio                   |\n",
    "\n",
    "Bank online features:\n",
    "\n",
    "| Feature Name                 | Description                                                      | Possible Values/Range   |\n",
    "|------------------------------|------------------------------------------------------------------|-------------------------|\n",
    "| tfeat_time_spent             | Time spent in BMO in a period                                    | Minutes                 |\n",
    "| tfeat_num_logins             | Number of logins into account in a period                        | Count                   |\n",
    "| tfeat_time_spent_lag1        | Time spent in BMO in T-1 period                                  | Minutes                 |\n",
    "| tfeat_num_logins_lag1        | Number of logins into account in T-1 period                      | Count                   |\n",
    "| tfeat_cum_time_spent         | Cumulative time spent in BMO in a period                          | Minutes                 |\n",
    "| tfeat_cum_num_logins         | Number of logins into account in a period since the first date   | Count                   |\n",
    "\n",
    "Loan history features:\n",
    "\n",
    "| Feature Name      | Description                    | Possible Values/Range   |\n",
    "|-------------------|--------------------------------|-------------------------|\n",
    "| LOAN_AMT          | Amount of loan                 | USD                     |\n",
    "| Net_Prft          | Monthly bonus                  | USD                     |\n",
    "| Monthly_Income    | Salary + monthly bonus         | USD                     |\n",
    "| ReveNue           | Salary                         | USD                     |\n",
    "\n",
    "Credit cards features\n",
    "\n",
    "| Feature Name       | Description                | Possible Values/Range   |\n",
    "|--------------------|----------------------------|-------------------------|\n",
    "| static_credit_limit| Static credit limit        | USD                     |\n",
    "\n",
    "Insurance features\n",
    "\n",
    "| Feature Name                         | Description                                           | Possible Values/Range   |\n",
    "|--------------------------------------|-------------------------------------------------------|-------------------------|\n",
    "| gwp                                 | Annualised GWP (Doc_Net_Installment * Payment frequency)| USD                     |\n"
   ]
  },
  {
   "cell_type": "markdown",
   "id": "e37a8e60-e6d2-4942-95fc-463e08ad745e",
   "metadata": {
    "tags": []
   },
   "source": [
    "##### Transactions (all in USD):\n",
    "\n",
    "| Feature Name | Description |\n",
    "|--------------|-------------|\n",
    "| _DR_total | Sum of outflow transaction for a particular month |\n",
    "| _DR_min | Minimum of outflow transaction for a particular month |\n",
    "| _DR_max | Maximum of outflow transaction for a particular month |\n",
    "| _DR_average | Average of outflow transaction for a particular month |\n",
    "| _CR_total | Sum of inflow transaction for a particular month |\n",
    "| _CR_min | Minimum of inflow transaction for a particular month |\n",
    "| _CR_max | Maximum of inflow transaction for a particular month |\n",
    "| _CR_average | Average of inflow transaction for a particular month |\n",
    "| _TR_count | Total number of transactions made per month of a year |\n",
    "| tfeat__DR_total_1_to_3m | 1-3 months moving average for sum of outflow transaction for a particular month |\n",
    "| tfeat__DR_min_1_to_3m | 1-3 months moving average for minimum of outflow transaction for a particular month |\n",
    "| tfeat__DR_max_1_to_3m | 1-3 months moving average for maximum of outflow transaction for a particular month |\n",
    "| tfeat__DR_average_1_to_3m | 1-3 months moving average for average of outflow transaction for a particular month |\n",
    "| tfeat__DR_total_4_to_6m | 4-6 months moving average for sum of outflow transaction for a particular month |\n",
    "| tfeat__DR_min_4_to_6m | 4-6 months moving average for minimum of outflow transaction for a particular month |\n",
    "| tfeat__DR_max_4_to_6m | 4-6 months moving average for maximum of outflow transaction for a particular month |\n",
    "| tfeat__DR_average_4_to_6m | 4-6 months moving average for average of outflow transaction for a particular month |\n",
    "| tfeat__DR_total_7_to_12m | 7-12 months moving average for sum of outflow transaction for a particular month |\n",
    "| tfeat__DR_min_7_to_12m | 7-12 months moving average for minimum of outflow transaction for a particular month |\n",
    "| tfeat__DR_max_7_to_12m | 7-12 months moving average for maximum of outflow transaction for a particular month |\n",
    "| tfeat__DR_average_7_to_12m | 7-12 months moving average for average of outflow transaction for a particular month |\n",
    "| tfeat__CR_total_1_to_3m | 1-3 months moving average for sum of inflow transaction for a particular month |\n",
    "| tfeat__CR_min_1_to_3m | 1-3 months moving average for minimum of inflow transaction for a particular month |\n",
    "| tfeat__CR_max_1_to_3m | 1-3 months moving average for maximum of inflow transaction for a particular month |\n",
    "| tfeat__CR_average_1_to_3m | 1-3 months moving average for average of inflow transaction for a particular month |\n",
    "| tfeat__CR_total_4_to_6m | 4-6 months moving average for sum of inflow transaction for a particular month |\n",
    "| tfeat__CR_min_4_to_6m | 4-6 months moving average for minimum of inflow transaction for a particular month |\n",
    "| tfeat__CR_max_4_to_6m | 4-6 months moving average for maximum of inflow transaction for a particular month |\n",
    "| tfeat__CR_average_4_to_6m | 4-6 months moving average for average of inflow transaction for a particular month |\n",
    "| tfeat__CR_total_7_to_12m | 7-12 months moving average for sum of inflow transaction for a particular month |\n",
    "| tfeat__CR_min_7_to_12m | 7-12 months moving average for minimum of inflow transaction for a particular month |\n",
    "| tfeat__CR_max_7_to_12m | 7-12 months moving average for maximum of inflow transaction for a particular month |\n",
    "| tfeat__CR_average_7_to_12m | 7-12 months moving average for average of inflow transaction for a particular month |\n",
    "| tfeat__TRCount_average_1_to_3m | 1-3 months moving average for average of count transaction for a particular month |\n",
    "| tfeat__TRCount_average_4_to_6m | 4-6 months moving average for average of count transaction for a particular month |\n",
    "| tfeat__TRCount_average_7_to_12m | 7-12 months moving average for average of count transaction for a particular month |\n",
    "| trn_count_C | Count of Inflow transactions |\n",
    "| trn_avg_D | Average of Outflow transaction per month |\n",
    "| trn_sum_D | Sum of Outflow transactions per month |\n",
    "| trn_count_D | Count of Outflow transactions per month |\n",
    "| trn_avg_C | Average of Outflow transactions per month |\n",
    "| trn_sum_C | Average of Outflow transactions per month |\n",
    "| trn_avg_D_MA_1_3 | Average of Outflow transactions per month: moving average 1-3 months |\n",
    "| trn_avg_D_MA_4_6 | Average of Outflow transactions per month: moving average 4-6 months |\n",
    "| trn_avg_D_MA_13_15 | Average of Outflow transactions per month: moving average 13-15 months |\n",
    "| trn_avg_D_3MA_3M_growth | Average of Outflow transactions per month: moving average relation of 1-3 months to 4-6 months |\n",
    "| trn_avg_D_3MA_YY_growth | Average of Outflow transactions per month: moving average relation of 1-3 months to 13-15 months |\n",
    "| trn_avg_D_LAST_MO_VS_3MA | Average of Outflow transactions per month: current / moving average 1-3 months |\n",
    "| trn_avg_D_MA_1_6 | Average of Outflow transactions per month: moving average 1-6 months |\n",
    "| trn_avg_D_MA_7_12 | Average of Outflow transactions per month: moving average 7-12 months |\n",
    "| trn_avg_D_MA_1_12 | Average of Outflow transactions per month: moving average 1-12 months |\n",
    "| trn_avg_C_MA_1_3 | Average of Inflow transactions per month: moving average 1-3 months |\n",
    "| trn_avg_C_MA_4_6 | Average of Inflow transactions per month: moving average 4-6 months |\n",
    "| trn_avg_C_MA_13_15 | Average of Inflow transactions per month: moving average 13-15 months |\n",
    "| trn_avg_C_3MA_3M_growth | Average of Inflow transactions per month: moving average relation of 1-3 months to 4-6 months |\n",
    "| trn_avg_C_3MA_YY_growth | Average of Inflow transactions per month: moving average relation of 1-3 months to 13-15 months |\n",
    "| trn_avg_C_LAST_MO_VS_3MA | Average of Inflow transactions per month: current / moving average 1-3 months |\n",
    "| trn_avg_C_MA_1_6 | Average of Inflow transactions per month: moving average 1-6 months |\n",
    "| trn_avg_C_MA_7_12 | Average of Inflow transactions per month: moving average 7-12 months |\n",
    "| trn_avg_C_MA_1_12 | Average of Inflow transactions per month: moving average 1-12 months |\n"
   ]
  }
 ],
 "metadata": {
  "kernelspec": {
   "display_name": "PySpark",
   "language": "python",
   "name": "pyspark_t1"
  },
  "language_info": {
   "codemirror_mode": {
    "name": "ipython",
    "version": 3
   },
   "file_extension": ".py",
   "mimetype": "text/x-python",
   "name": "python",
   "nbconvert_exporter": "python",
   "pygments_lexer": "ipython3",
   "version": "3.9.13"
  }
 },
 "nbformat": 4,
 "nbformat_minor": 5
}
